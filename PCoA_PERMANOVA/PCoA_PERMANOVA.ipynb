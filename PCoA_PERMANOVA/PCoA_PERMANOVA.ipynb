{
 "cells": [
  {
   "cell_type": "markdown",
   "metadata": {},
   "source": [
    "# Principal component analysis and PERMANOVA"
   ]
  },
  {
   "cell_type": "markdown",
   "metadata": {},
   "source": [
    "## PERMANOVA"
   ]
  },
  {
   "cell_type": "markdown",
   "metadata": {},
   "source": [
    "load libraries"
   ]
  },
  {
   "cell_type": "code",
   "execution_count": 1,
   "metadata": {},
   "outputs": [
    {
     "name": "stderr",
     "output_type": "stream",
     "text": [
      "Warning message:\n",
      "“package ‘ggfortify’ was built under R version 3.6.2”\n",
      "Loading required package: ggplot2\n",
      "\n",
      "Warning message:\n",
      "“package ‘ggplot2’ was built under R version 3.6.2”\n",
      "Warning message:\n",
      "“package ‘rlang’ was built under R version 3.6.2”\n",
      "Loading required package: permute\n",
      "\n",
      "Loading required package: lattice\n",
      "\n",
      "Warning message:\n",
      "“package ‘lattice’ was built under R version 3.6.2”\n",
      "This is vegan 2.5-6\n",
      "\n",
      "Loading required package: viridisLite\n",
      "\n"
     ]
    }
   ],
   "source": [
    "library(ggfortify)\n",
    "library(ggplot2)\n",
    "library(ggsci)\n",
    "library(gridExtra)\n",
    "library(rlang)\n",
    "library(vegan)\n",
    "library(viridis)"
   ]
  },
  {
   "cell_type": "markdown",
   "metadata": {},
   "source": [
    "load feature table"
   ]
  },
  {
   "cell_type": "code",
   "execution_count": 2,
   "metadata": {},
   "outputs": [],
   "source": [
    "ft <- read.csv('PPG_KMF_resultingdatamatrix_GNPS.csv',sep = \";\", header =TRUE, dec = \".\", check.names = FALSE)\n",
    "\n",
    "if (length(which(is.na(colSums(ft)))) != 0){\n",
    "    ft <- ft[,-which(is.na(colSums(ft)))]\n",
    "}"
   ]
  },
  {
   "cell_type": "markdown",
   "metadata": {},
   "source": [
    "load metadata table"
   ]
  },
  {
   "cell_type": "code",
   "execution_count": 4,
   "metadata": {},
   "outputs": [],
   "source": [
    "md <- read.table('metadata.txt', sep = '\\t', header = T)"
   ]
  },
  {
   "cell_type": "code",
   "execution_count": 6,
   "metadata": {},
   "outputs": [],
   "source": [
    "colnames(ft) <- gsub(' filtered Peak area','',colnames(ft))"
   ]
  },
  {
   "cell_type": "code",
   "execution_count": 7,
   "metadata": {},
   "outputs": [
    {
     "data": {
      "text/html": [
       "<style>\n",
       ".list-inline {list-style: none; margin:0; padding: 0}\n",
       ".list-inline>li {display: inline-block}\n",
       ".list-inline>li:not(:last-child)::after {content: \"\\00b7\"; padding: 0 .5ex}\n",
       "</style>\n",
       "<ol class=list-inline><li>'row ID'</li><li>'row m/z'</li><li>'row retention time'</li></ol>\n"
      ],
      "text/latex": [
       "\\begin{enumerate*}\n",
       "\\item 'row ID'\n",
       "\\item 'row m/z'\n",
       "\\item 'row retention time'\n",
       "\\end{enumerate*}\n"
      ],
      "text/markdown": [
       "1. 'row ID'\n",
       "2. 'row m/z'\n",
       "3. 'row retention time'\n",
       "\n",
       "\n"
      ],
      "text/plain": [
       "[1] \"row ID\"             \"row m/z\"            \"row retention time\""
      ]
     },
     "metadata": {},
     "output_type": "display_data"
    }
   ],
   "source": [
    "colnames(ft)[-which(colnames(ft) %in% md$filename)]"
   ]
  },
  {
   "cell_type": "code",
   "execution_count": 8,
   "metadata": {},
   "outputs": [],
   "source": [
    "ft <- ft[,-c(2:3)]\n",
    "ft <- t(ft)\n",
    "colnames(ft) <- ft[1,]\n",
    "ft <- ft[-1,]\n",
    "class(ft) <-\"numeric\""
   ]
  },
  {
   "cell_type": "code",
   "execution_count": 10,
   "metadata": {},
   "outputs": [],
   "source": [
    "ft[ft==0] <- NA"
   ]
  },
  {
   "cell_type": "code",
   "execution_count": 11,
   "metadata": {},
   "outputs": [
    {
     "data": {
      "text/html": [
       "TRUE"
      ],
      "text/latex": [
       "TRUE"
      ],
      "text/markdown": [
       "TRUE"
      ],
      "text/plain": [
       "[1] TRUE"
      ]
     },
     "metadata": {},
     "output_type": "display_data"
    }
   ],
   "source": [
    "md <- md[match(rownames(ft),md$filename),]\n",
    "identical(as.character(md$filename),as.character(rownames(ft)))"
   ]
  },
  {
   "cell_type": "markdown",
   "metadata": {},
   "source": [
    "run PERMANOVAs"
   ]
  },
  {
   "cell_type": "code",
   "execution_count": 12,
   "metadata": {},
   "outputs": [],
   "source": [
    "distmetrics <- c('euclidean','bray','jaccard','canberra')"
   ]
  },
  {
   "cell_type": "code",
   "execution_count": 13,
   "metadata": {},
   "outputs": [],
   "source": [
    "md <- md[which(md$filename%in%rownames(ft)),]\n",
    "md <- md[match(rownames(ft),md$filename),]"
   ]
  },
  {
   "cell_type": "code",
   "execution_count": 14,
   "metadata": {},
   "outputs": [],
   "source": [
    "sels <- c('ATTRIBUTE_injOrder',\n",
    "          'ATTRIBUTE_type',\n",
    "          'ATTRIBUTE_ACAT',\n",
    "          'ATTRIBUTE_XX',\n",
    "          'ATTRIBUTE_BW',\n",
    "          'ATTRIBUTE_GA',\n",
    "          'ATTRIBUTE_AAS',\n",
    "          'ATTRIBUTE_MoB')"
   ]
  },
  {
   "cell_type": "markdown",
   "metadata": {},
   "source": [
    "clean metadata "
   ]
  },
  {
   "cell_type": "code",
   "execution_count": 15,
   "metadata": {},
   "outputs": [],
   "source": [
    "for (i in 1:length(sels)){\n",
    "    \n",
    "    if('na' %in% names(table(md[,which(colnames(md) == sels[i])], exclude = NULL))){\n",
    "        \n",
    "        md[,which(colnames(md) == sels[i])][which(md[,which(colnames(md) == sels[i])] == 'na')] <- NaN\n",
    "        md[,which(colnames(md) == sels[i])] <- droplevels(md[,which(colnames(md) == sels[i])])\n",
    "    }\n",
    "}"
   ]
  },
  {
   "cell_type": "code",
   "execution_count": 16,
   "metadata": {},
   "outputs": [],
   "source": [
    "md$ATTRIBUTE_BW <- as.numeric(as.character(md$ATTRIBUTE_BW))\n",
    "md$ATTRIBUTE_GA <- as.numeric(as.character(md$ATTRIBUTE_GA))\n",
    "md$ATTRIBUTE_AAS <- as.numeric(as.character(md$ATTRIBUTE_AAS))"
   ]
  },
  {
   "cell_type": "code",
   "execution_count": 17,
   "metadata": {},
   "outputs": [],
   "source": [
    "ft_nopools <- ft[-which(rownames(ft) %in% as.character(md$filename[which(md$ATTRIBUTE_type == 'Pool')])),]"
   ]
  },
  {
   "cell_type": "code",
   "execution_count": 18,
   "metadata": {},
   "outputs": [],
   "source": [
    "md_nopools <- md[match(rownames(ft_nopools),md$filename),]"
   ]
  },
  {
   "cell_type": "code",
   "execution_count": 19,
   "metadata": {},
   "outputs": [
    {
     "data": {
      "text/html": [
       "TRUE"
      ],
      "text/latex": [
       "TRUE"
      ],
      "text/markdown": [
       "TRUE"
      ],
      "text/plain": [
       "[1] TRUE"
      ]
     },
     "metadata": {},
     "output_type": "display_data"
    }
   ],
   "source": [
    "identical(as.character(md_nopools$filename), rownames(ft_nopools)) "
   ]
  },
  {
   "cell_type": "code",
   "execution_count": 20,
   "metadata": {},
   "outputs": [
    {
     "name": "stderr",
     "output_type": "stream",
     "text": [
      "ATTRIBUTE_injOrder\n",
      "\n",
      "euclidean\n",
      "\n",
      "ATTRIBUTE_type\n",
      "\n",
      "euclidean\n",
      "\n",
      "ATTRIBUTE_ACAT\n",
      "\n",
      "euclidean\n",
      "\n",
      "ATTRIBUTE_XX\n",
      "\n",
      "euclidean\n",
      "\n",
      "ATTRIBUTE_BW\n",
      "\n",
      "euclidean\n",
      "\n",
      "ATTRIBUTE_GA\n",
      "\n",
      "euclidean\n",
      "\n",
      "ATTRIBUTE_AAS\n",
      "\n",
      "euclidean\n",
      "\n",
      "ATTRIBUTE_MoB\n",
      "\n",
      "euclidean\n",
      "\n",
      "ATTRIBUTE_injOrder\n",
      "\n",
      "bray\n",
      "\n",
      "ATTRIBUTE_type\n",
      "\n",
      "bray\n",
      "\n",
      "ATTRIBUTE_ACAT\n",
      "\n",
      "bray\n",
      "\n",
      "ATTRIBUTE_XX\n",
      "\n",
      "bray\n",
      "\n",
      "ATTRIBUTE_BW\n",
      "\n",
      "bray\n",
      "\n",
      "ATTRIBUTE_GA\n",
      "\n",
      "bray\n",
      "\n",
      "ATTRIBUTE_AAS\n",
      "\n",
      "bray\n",
      "\n",
      "ATTRIBUTE_MoB\n",
      "\n",
      "bray\n",
      "\n",
      "ATTRIBUTE_injOrder\n",
      "\n",
      "jaccard\n",
      "\n",
      "ATTRIBUTE_type\n",
      "\n",
      "jaccard\n",
      "\n",
      "ATTRIBUTE_ACAT\n",
      "\n",
      "jaccard\n",
      "\n",
      "ATTRIBUTE_XX\n",
      "\n",
      "jaccard\n",
      "\n",
      "ATTRIBUTE_BW\n",
      "\n",
      "jaccard\n",
      "\n",
      "ATTRIBUTE_GA\n",
      "\n",
      "jaccard\n",
      "\n",
      "ATTRIBUTE_AAS\n",
      "\n",
      "jaccard\n",
      "\n",
      "ATTRIBUTE_MoB\n",
      "\n",
      "jaccard\n",
      "\n",
      "ATTRIBUTE_injOrder\n",
      "\n",
      "canberra\n",
      "\n",
      "ATTRIBUTE_type\n",
      "\n",
      "canberra\n",
      "\n",
      "ATTRIBUTE_ACAT\n",
      "\n",
      "canberra\n",
      "\n",
      "ATTRIBUTE_XX\n",
      "\n",
      "canberra\n",
      "\n",
      "ATTRIBUTE_BW\n",
      "\n",
      "canberra\n",
      "\n",
      "ATTRIBUTE_GA\n",
      "\n",
      "canberra\n",
      "\n",
      "ATTRIBUTE_AAS\n",
      "\n",
      "canberra\n",
      "\n",
      "ATTRIBUTE_MoB\n",
      "\n",
      "canberra\n",
      "\n"
     ]
    }
   ],
   "source": [
    "Rsqs <- c()\n",
    "pvals <- c()\n",
    "\n",
    "for (j in 1:length(distmetrics)){\n",
    "    \n",
    "    for (i in 1:length(sels)){\n",
    "        \n",
    "        catcor <- sels[i]\n",
    "        message(catcor)\n",
    "\n",
    "        distm <- vegdist(ft_nopools,method = distmetrics[j], na.rm = T)\n",
    "        message(distmetrics[j])\n",
    "\n",
    "        if (length(which(is.na(md_nopools[,colnames(md_nopools) == catcor]))) !=0){\n",
    "            \n",
    "            red <- as.dist(as.matrix(distm)[-which(is.na(md_nopools[,colnames(md_nopools) == catcor])),-which(is.na(md_nopools[,colnames(md_nopools) == catcor]))])\n",
    "            md_red <- md_nopools[-which(is.na(md_nopools[,colnames(md_nopools) == catcor])),]\n",
    "            Rsq <- adonis(red ~ na.omit(md_red[,colnames(md_red) == catcor]))$aov.tab$R2[1]\n",
    "            pval <- adonis(red ~ na.omit(md_red[,colnames(md_red) == catcor]))$aov.tab$'Pr(>F)'[1]\n",
    "        \n",
    "        } else {\n",
    "            \n",
    "            Rsq <- adonis(distm ~ md_nopools[,colnames(md_nopools) == catcor])$aov.tab$R2[1]\n",
    "            pval <- adonis(distm ~ md_nopools[,colnames(md_nopools) == catcor])$aov.tab$'Pr(>F)'[1]\n",
    "      \n",
    "        }\n",
    "\n",
    "        Rsqs <- c(Rsqs,Rsq)\n",
    "        pvals <- c(pvals,pval)\n",
    "        \n",
    "  }\n",
    "    \n",
    "}"
   ]
  },
  {
   "cell_type": "code",
   "execution_count": 21,
   "metadata": {},
   "outputs": [],
   "source": [
    "out <- cbind(sels,Rsqs,pvals,rep(distmetrics,each = length(sels)))"
   ]
  },
  {
   "cell_type": "code",
   "execution_count": 22,
   "metadata": {},
   "outputs": [],
   "source": [
    "out <- as.data.frame(out, stringsAsFactors = F)"
   ]
  },
  {
   "cell_type": "code",
   "execution_count": 23,
   "metadata": {},
   "outputs": [],
   "source": [
    "colnames(out) <- c(\"metadata\",\"AdonisR2\",\"pvalue\",\"metric\")"
   ]
  },
  {
   "cell_type": "code",
   "execution_count": 25,
   "metadata": {},
   "outputs": [],
   "source": [
    "out$AdonisR2 <- as.numeric(out$AdonisR2)\n",
    "out$pvalue <- as.numeric(out$pvalue)"
   ]
  },
  {
   "cell_type": "code",
   "execution_count": 26,
   "metadata": {},
   "outputs": [],
   "source": [
    "out$sig <- out$pvalue\n",
    "out$sig[out$sig>=0.05] <- \"p>0.05\"\n",
    "out$sig[out$sig<=0.05] <- \"p<0.05\"\n",
    "out$sig <- as.factor(out$sig)"
   ]
  },
  {
   "cell_type": "code",
   "execution_count": 27,
   "metadata": {},
   "outputs": [],
   "source": [
    "out$stars <- as.character(out$sig)\n",
    "out$stars[which(out$stars == 'p>0.05')] <- ''\n",
    "out$stars[which(out$stars == 'p<0.05')] <- '*'"
   ]
  },
  {
   "cell_type": "code",
   "execution_count": 28,
   "metadata": {},
   "outputs": [],
   "source": [
    "keys <- cbind(sels, c('Injection order','ASD (yes/no)','ASD subtype', 'Gender','Birthweight',\n",
    "      'Gestational age', 'Age at sampling','Month of birth'))\n",
    "keys <- keys[order(keys[,1]),]"
   ]
  },
  {
   "cell_type": "code",
   "execution_count": 29,
   "metadata": {},
   "outputs": [],
   "source": [
    "out$metadatanice <- keys[as.numeric(as.factor(out$metadata)),2]"
   ]
  },
  {
   "cell_type": "code",
   "execution_count": 31,
   "metadata": {},
   "outputs": [
    {
     "data": {
      "image/png": "[encoded data removed]",
      "text/plain": [
       "plot without title"
      ]
     },
     "metadata": {
      "image/png": {
       "height": 420,
       "width": 420
      }
     },
     "output_type": "display_data"
    }
   ],
   "source": [
    "ggplot(out, aes(x=metadatanice, y=AdonisR2, fill=metric)) + \n",
    "    geom_bar(colour=\"black\", stat=\"identity\", position='dodge') +\n",
    "    geom_text(aes(label=stars), position=position_dodge(width=0.9), vjust=-0.25) +\n",
    "    ggpubr::rotate_x_text() +\n",
    "    labs(y= \"Adonis R2\") +\n",
    "    theme(axis.title.x=element_blank(), legend.title = element_blank())"
   ]
  },
  {
   "cell_type": "code",
   "execution_count": 32,
   "metadata": {},
   "outputs": [
    {
     "data": {
      "text/html": [
       "<strong>pdf:</strong> 2"
      ],
      "text/latex": [
       "\\textbf{pdf:} 2"
      ],
      "text/markdown": [
       "**pdf:** 2"
      ],
      "text/plain": [
       "pdf \n",
       "  2 "
      ]
     },
     "metadata": {},
     "output_type": "display_data"
    }
   ],
   "source": [
    "pdf(file=\"AdonisR2.pdf\", width=5, height=5)\n",
    "ggplot(out, aes(x=metadatanice, y=AdonisR2, fill=metric)) + \n",
    "    geom_bar(colour=\"black\", stat=\"identity\", position='dodge') +\n",
    "    geom_text(aes(label=stars), position=position_dodge(width=0.9), vjust=-0.25) +\n",
    "    ggpubr::rotate_x_text() +\n",
    "    labs(y= \"Adonis R2\") +\n",
    "    theme(axis.title.x=element_blank(), legend.title = element_blank())\n",
    "dev.off()"
   ]
  },
  {
   "cell_type": "code",
   "execution_count": 33,
   "metadata": {},
   "outputs": [],
   "source": [
    "write.table(out, 'PERMANOVA_Summary.txt' ,sep = '\\t', quote = F, row.names = F)"
   ]
  },
  {
   "cell_type": "markdown",
   "metadata": {},
   "source": [
    "Assess sparsity of featuretable"
   ]
  },
  {
   "cell_type": "code",
   "execution_count": 34,
   "metadata": {},
   "outputs": [
    {
     "data": {
      "text/html": [
       "0.332460853193737"
      ],
      "text/latex": [
       "0.332460853193737"
      ],
      "text/markdown": [
       "0.332460853193737"
      ],
      "text/plain": [
       "[1] 0.3324609"
      ]
     },
     "metadata": {},
     "output_type": "display_data"
    }
   ],
   "source": [
    "length(which(is.na(ft_nopools)))/length(ft_nopools)"
   ]
  },
  {
   "cell_type": "markdown",
   "metadata": {},
   "source": [
    "# PCA plots"
   ]
  },
  {
   "cell_type": "code",
   "execution_count": 35,
   "metadata": {},
   "outputs": [],
   "source": [
    "df <- cbind(ft, md)"
   ]
  },
  {
   "cell_type": "code",
   "execution_count": 36,
   "metadata": {},
   "outputs": [
    {
     "data": {
      "text/html": [
       "<style>\n",
       ".list-inline {list-style: none; margin:0; padding: 0}\n",
       ".list-inline>li {display: inline-block}\n",
       ".list-inline>li:not(:last-child)::after {content: \"\\00b7\"; padding: 0 .5ex}\n",
       "</style>\n",
       "<ol class=list-inline><li>72</li><li>1324</li></ol>\n"
      ],
      "text/latex": [
       "\\begin{enumerate*}\n",
       "\\item 72\n",
       "\\item 1324\n",
       "\\end{enumerate*}\n"
      ],
      "text/markdown": [
       "1. 72\n",
       "2. 1324\n",
       "\n",
       "\n"
      ],
      "text/plain": [
       "[1]   72 1324"
      ]
     },
     "metadata": {},
     "output_type": "display_data"
    }
   ],
   "source": [
    "dim(df)"
   ]
  },
  {
   "cell_type": "code",
   "execution_count": 37,
   "metadata": {},
   "outputs": [
    {
     "data": {
      "text/html": [
       "<style>\n",
       ".list-inline {list-style: none; margin:0; padding: 0}\n",
       ".list-inline>li {display: inline-block}\n",
       ".list-inline>li:not(:last-child)::after {content: \"\\00b7\"; padding: 0 .5ex}\n",
       "</style>\n",
       "<ol class=list-inline><li>72</li><li>1281</li></ol>\n"
      ],
      "text/latex": [
       "\\begin{enumerate*}\n",
       "\\item 72\n",
       "\\item 1281\n",
       "\\end{enumerate*}\n"
      ],
      "text/markdown": [
       "1. 72\n",
       "2. 1281\n",
       "\n",
       "\n"
      ],
      "text/plain": [
       "[1]   72 1281"
      ]
     },
     "metadata": {},
     "output_type": "display_data"
    }
   ],
   "source": [
    "dim(ft)"
   ]
  },
  {
   "cell_type": "code",
   "execution_count": 38,
   "metadata": {},
   "outputs": [
    {
     "data": {
      "text/html": [
       "<style>\n",
       ".list-inline {list-style: none; margin:0; padding: 0}\n",
       ".list-inline>li {display: inline-block}\n",
       ".list-inline>li:not(:last-child)::after {content: \"\\00b7\"; padding: 0 .5ex}\n",
       "</style>\n",
       "<ol class=list-inline><li>72</li><li>43</li></ol>\n"
      ],
      "text/latex": [
       "\\begin{enumerate*}\n",
       "\\item 72\n",
       "\\item 43\n",
       "\\end{enumerate*}\n"
      ],
      "text/markdown": [
       "1. 72\n",
       "2. 43\n",
       "\n",
       "\n"
      ],
      "text/plain": [
       "[1] 72 43"
      ]
     },
     "metadata": {},
     "output_type": "display_data"
    }
   ],
   "source": [
    "dim(md)"
   ]
  },
  {
   "cell_type": "code",
   "execution_count": 39,
   "metadata": {},
   "outputs": [],
   "source": [
    "ff <- df[,1:1281]\n",
    "ff[which(is.na(ff), arr.ind = T)] <- 0"
   ]
  },
  {
   "cell_type": "markdown",
   "metadata": {},
   "source": [
    "do PCA"
   ]
  },
  {
   "cell_type": "code",
   "execution_count": 40,
   "metadata": {},
   "outputs": [],
   "source": [
    "pca_res <- prcomp(ff)"
   ]
  },
  {
   "cell_type": "markdown",
   "metadata": {},
   "source": [
    "## Figure 3"
   ]
  },
  {
   "cell_type": "code",
   "execution_count": 41,
   "metadata": {},
   "outputs": [],
   "source": [
    "cols <- c('#a80347','#ffcd82',\n",
    "          '#808080')"
   ]
  },
  {
   "cell_type": "code",
   "execution_count": 42,
   "metadata": {},
   "outputs": [],
   "source": [
    "pval_sel <- out[which(out$metric == 'euclidean' & out$metadata == 'ATTRIBUTE_type'),]$pvalue\n",
    "Rsq_sel <- out[which(out$metric == 'euclidean' & out$metadata == 'ATTRIBUTE_type'),]$AdonisR2"
   ]
  },
  {
   "cell_type": "code",
   "execution_count": 43,
   "metadata": {},
   "outputs": [
    {
     "name": "stderr",
     "output_type": "stream",
     "text": [
      "Warning message:\n",
      "“`select_()` is deprecated as of dplyr 0.7.0.\n",
      "Please use `select()` instead.\n",
      "\u001b[90mThis warning is displayed once every 8 hours.\u001b[39m\n",
      "\u001b[90mCall `lifecycle::last_warnings()` to see where this warning was generated.\u001b[39m”\n"
     ]
    },
    {
     "data": {
      "image/png": "[encoded data removed]",
      "text/plain": [
       "plot without title"
      ]
     },
     "metadata": {
      "image/png": {
       "height": 420,
       "width": 420
      }
     },
     "output_type": "display_data"
    }
   ],
   "source": [
    "autoplot(pca_res, data = df, colour = 'ATTRIBUTE_type', size = 3) +\n",
    "    scale_colour_manual(labels = c(\"Case\", \"Control\", \"Pools\"), values = cols) +\n",
    "    theme_classic() +\n",
    "    theme(legend.title=element_blank(), axis.text.x = element_blank(), \n",
    "          axis.text.y = element_blank(),axis.ticks = element_blank(),\n",
    "          legend.text=element_text(size=12)) +\n",
    "    ggtitle(expr(paste(\"PERMANOVA, \", \"P = \", !!round(pval_sel,4),\", Adonis \" , R^2, \" = \", !!round(Rsq_sel,4)))) "
   ]
  },
  {
   "cell_type": "code",
   "execution_count": 44,
   "metadata": {},
   "outputs": [
    {
     "data": {
      "text/html": [
       "<strong>pdf:</strong> 2"
      ],
      "text/latex": [
       "\\textbf{pdf:} 2"
      ],
      "text/markdown": [
       "**pdf:** 2"
      ],
      "text/plain": [
       "pdf \n",
       "  2 "
      ]
     },
     "metadata": {},
     "output_type": "display_data"
    }
   ],
   "source": [
    "pdf('Figure3.pdf',width=7,height=6)\n",
    "autoplot(pca_res, data = df, colour = 'ATTRIBUTE_type', size = 3) +\n",
    "    scale_colour_manual(labels = c(\"Case\", \"Control\", \"Pools\"),values = cols) +\n",
    "    theme_classic() +\n",
    "    theme(legend.title=element_blank(), axis.text.x = element_blank(), \n",
    "          axis.text.y = element_blank(),axis.ticks = element_blank(),\n",
    "          legend.text=element_text(size=12)) +\n",
    "    ggtitle(expr(paste(\"PERMANOVA, \", \"P = \", !!round(pval_sel,4),\", Adonis \" , R^2, \" = \", !!round(Rsq_sel,4)))) \n",
    "dev.off()"
   ]
  },
  {
   "cell_type": "markdown",
   "metadata": {},
   "source": [
    "## Figure 4"
   ]
  },
  {
   "cell_type": "code",
   "execution_count": 45,
   "metadata": {},
   "outputs": [],
   "source": [
    "cols <- c('#F8766D','#00BFC4')"
   ]
  },
  {
   "cell_type": "code",
   "execution_count": 46,
   "metadata": {},
   "outputs": [],
   "source": [
    "df$ATTRIBUTE_MoB <- as.numeric(as.character(df$ATTRIBUTE_MoB))"
   ]
  },
  {
   "cell_type": "code",
   "execution_count": 47,
   "metadata": {},
   "outputs": [],
   "source": [
    "sels_vip <- c('ATTRIBUTE_MoB','ATTRIBUTE_GA','ATTRIBUTE_AAS', 'ATTRIBUTE_XX')"
   ]
  },
  {
   "cell_type": "code",
   "execution_count": 48,
   "metadata": {},
   "outputs": [],
   "source": [
    "plots <- list()\n",
    "count <- 0\n",
    "local(for (i in 1:length(sels_vip)){\n",
    "    \n",
    "    count <<- count + 1\n",
    "    \n",
    "    pval_sel <- out[which(out$metric == 'euclidean' & out$metadata == sels_vip[i]),]$pvalue\n",
    "    Rsq_sel <- out[which(out$metric == 'euclidean' & out$metadata == sels_vip[i]),]$AdonisR2\n",
    "    \n",
    "    if (sels_vip[i] %in% c('ATTRIBUTE_MoB', 'ATTRIBUTE_GA', 'ATTRIBUTE_AAS')){\n",
    "        \n",
    "        Tr_PcoA <- autoplot(pca_res, data = df, colour = sels_vip[i], size = 3) +\n",
    "                        scale_color_viridis(option = \"D\") +\n",
    "                        theme_classic() +\n",
    "                        theme(legend.title=element_blank(), axis.text.x = element_blank(), \n",
    "                              axis.text.y = element_blank(),axis.ticks = element_blank(),\n",
    "                              legend.text=element_text(size=12)) +\n",
    "                        ggtitle(expr(paste(!!keys[which(keys[,1] %in% sels_vip[i]),2], \" (PERMANOVA, \", \"P = \", !!round(pval_sel,4),\", Adonis \" , R^2, \" = \", !!round(Rsq_sel,4), \")\"))) \n",
    "    } else {\n",
    "        \n",
    "        \n",
    "        Tr_PcoA <- autoplot(pca_res, data = df, colour = sels_vip[i], size = 3) +\n",
    "                        scale_colour_manual(labels = c(\"Male\", \"Female\", \"Pools\"), values = cols, na.value = \"#808080\") +\n",
    "                        theme_classic() +\n",
    "                        theme(legend.title=element_blank(), axis.text.x = element_blank(), \n",
    "                              axis.text.y = element_blank(),axis.ticks = element_blank(),\n",
    "                              legend.text=element_text(size=12)) +\n",
    "                        ggtitle(expr(paste(!!keys[which(keys[,1] %in% sels_vip[i]),2],\" (PERMANOVA, \", \"P = \", !!round(pval_sel,4),\", Adonis \" , R^2, \" = \", !!round(Rsq_sel,4), \")\"))) \n",
    "\n",
    "    }\n",
    "\n",
    "      plots[[count]] <<- Tr_PcoA\n",
    "\n",
    "})"
   ]
  },
  {
   "cell_type": "code",
   "execution_count": 49,
   "metadata": {},
   "outputs": [
    {
     "data": {
      "text/html": [
       "<strong>pdf:</strong> 2"
      ],
      "text/latex": [
       "\\textbf{pdf:} 2"
      ],
      "text/markdown": [
       "**pdf:** 2"
      ],
      "text/plain": [
       "pdf \n",
       "  2 "
      ]
     },
     "metadata": {},
     "output_type": "display_data"
    }
   ],
   "source": [
    "pdf('Figure4.pdf',width=15,height=10)\n",
    "grid.arrange(grobs = plots, ncol =2, widths =c(4,4))\n",
    "dev.off()"
   ]
  }
 ],
 "metadata": {
  "kernelspec": {
   "display_name": "R",
   "language": "R",
   "name": "ir"
  },
  "language_info": {
   "codemirror_mode": "r",
   "file_extension": ".r",
   "mimetype": "text/x-r-source",
   "name": "R",
   "pygments_lexer": "r",
   "version": "3.6.1"
  }
 },
 "nbformat": 4,
 "nbformat_minor": 2
}
